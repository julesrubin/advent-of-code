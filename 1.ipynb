{
 "cells": [
  {
   "cell_type": "code",
   "execution_count": 1,
   "metadata": {},
   "outputs": [
    {
     "data": {
      "text/plain": [
       "23927637"
      ]
     },
     "execution_count": 1,
     "metadata": {},
     "output_type": "execute_result"
    }
   ],
   "source": [
    "# Read the input file and populate the two lists\n",
    "file_path = \"inputs/input1.txt\"\n",
    "\n",
    "# Initialize the lists\n",
    "left_list = []\n",
    "right_list = []\n",
    "\n",
    "# Process the file to extract the lists\n",
    "with open(file_path, \"r\") as file:\n",
    "    for line in file:\n",
    "        left, right = map(int, line.split())\n",
    "        left_list.append(left)\n",
    "        right_list.append(right)\n",
    "\n",
    "# Step 1: Count occurrences of each number in the right list\n",
    "from collections import Counter\n",
    "\n",
    "right_list_counts = Counter(right_list)\n",
    "\n",
    "# Step 2: Calculate the similarity score\n",
    "similarity_score = sum(left * right_list_counts[left] for left in left_list)\n",
    "\n",
    "similarity_score\n"
   ]
  }
 ],
 "metadata": {
  "kernelspec": {
   "display_name": ".venv",
   "language": "python",
   "name": "python3"
  },
  "language_info": {
   "codemirror_mode": {
    "name": "ipython",
    "version": 3
   },
   "file_extension": ".py",
   "mimetype": "text/x-python",
   "name": "python",
   "nbconvert_exporter": "python",
   "pygments_lexer": "ipython3",
   "version": "3.12.6"
  }
 },
 "nbformat": 4,
 "nbformat_minor": 2
}
