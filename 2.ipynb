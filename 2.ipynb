{
 "cells": [
  {
   "cell_type": "code",
   "execution_count": 1,
   "metadata": {},
   "outputs": [],
   "source": [
    "file_path = 'inputs/input2.txt'"
   ]
  },
  {
   "cell_type": "code",
   "execution_count": 2,
   "metadata": {},
   "outputs": [],
   "source": [
    "# Parse the reports into a list of lists\n",
    "reports = []\n",
    "with open(file_path, \"r\") as file:\n",
    "    for line in file:\n",
    "        reports.append(list(map(int, line.split())))\n"
   ]
  },
  {
   "cell_type": "code",
   "execution_count": 3,
   "metadata": {},
   "outputs": [
    {
     "name": "stdout",
     "output_type": "stream",
     "text": [
      "Number of safe reports: 490\n",
      "Number of safe reports with the Problem Dampener: 536\n"
     ]
    }
   ],
   "source": [
    "def is_safe_report(report):\n",
    "    differences = [report[i+1] - report[i] for i in range(len(report) - 1)]\n",
    "    if not all(1 <= abs(diff) <= 3 for diff in differences):\n",
    "        return False\n",
    "    if all(diff > 0 for diff in differences) or all(diff < 0 for diff in differences):\n",
    "        return True\n",
    "    return False\n",
    "\n",
    "def is_safe_with_dampener(report):\n",
    "    if is_safe_report(report):\n",
    "        return True\n",
    "    for i in range(len(report)):\n",
    "        modified_report = report[:i] + report[i+1:]\n",
    "        if is_safe_report(modified_report):\n",
    "            return True\n",
    "    return False\n",
    "\n",
    "safe_reports_count = sum(is_safe_report(report) for report in reports)\n",
    "safe_reports_with_dampener_count = sum(is_safe_with_dampener(report) for report in reports)\n",
    "\n",
    "print(\"Number of safe reports:\", safe_reports_count)\n",
    "print(\"Number of safe reports with the Problem Dampener:\", safe_reports_with_dampener_count)"
   ]
  }
 ],
 "metadata": {
  "kernelspec": {
   "display_name": ".venv",
   "language": "python",
   "name": "python3"
  },
  "language_info": {
   "codemirror_mode": {
    "name": "ipython",
    "version": 3
   },
   "file_extension": ".py",
   "mimetype": "text/x-python",
   "name": "python",
   "nbconvert_exporter": "python",
   "pygments_lexer": "ipython3",
   "version": "3.12.6"
  }
 },
 "nbformat": 4,
 "nbformat_minor": 2
}
